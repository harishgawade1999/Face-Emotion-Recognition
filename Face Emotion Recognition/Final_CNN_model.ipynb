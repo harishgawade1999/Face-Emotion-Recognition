{
 "cells": [
  {
   "cell_type": "code",
   "execution_count": 1,
   "metadata": {
    "_cell_guid": "b1076dfc-b9ad-4769-8c92-a6c4dae69d19",
    "_uuid": "8f2839f25d086af736a60e9eeb907d3b93b6e0e5",
    "collapsed": true,
    "execution": {
     "iopub.execute_input": "2022-03-24T09:22:36.737273Z",
     "iopub.status.busy": "2022-03-24T09:22:36.735647Z",
     "iopub.status.idle": "2022-03-24T09:22:47.692687Z",
     "shell.execute_reply": "2022-03-24T09:22:47.690339Z",
     "shell.execute_reply.started": "2022-03-24T09:22:36.736823Z"
    },
    "jupyter": {
     "outputs_hidden": true
    }
   },
   "outputs": [],
   "source": [
    "# This Python 3 environment comes with many helpful analytics libraries installed\n",
    "# It is defined by the kaggle/python Docker image: https://github.com/kaggle/docker-python\n",
    "# For example, here's several helpful packages to load\n",
    "\n",
    "import numpy as np # linear algebra\n",
    "import pandas as pd # data processing, CSV file I/O (e.g. pd.read_csv)\n",
    "\n",
    "# Input data files are available in the read-only \"../input/\" directory\n",
    "# For example, running this (by clicking run or pressing Shift+Enter) will list all files under the input directory\n",
    "\n",
    "import os\n",
    "for dirname, _, filenames in os.walk('/kaggle/input'):\n",
    "    for filename in filenames:\n",
    "        print(os.path.join(dirname, filename))\n",
    "\n",
    "# You can write up to 20GB to the current directory (/kaggle/working/) that gets preserved as output when you create a version using \"Save & Run All\" \n",
    "# You can also write temporary files to /kaggle/temp/, but they won't be saved outside of the current session"
   ]
  },
  {
   "cell_type": "code",
   "execution_count": 1,
   "metadata": {},
   "outputs": [],
   "source": [
    "#import libraries\n",
    "import warnings\n",
    "warnings.filterwarnings('ignore')\n",
    "import matplotlib.pyplot as plt\n",
    "import numpy as np\n",
    "import pandas as pd\n",
    "import seaborn as sns\n",
    "import os\n",
    "\n",
    "# Importing Deep Learning Libraries\n",
    "import tensorflow as tf\n",
    "from tensorflow import keras\n",
    "import cv2\n",
    "from keras.preprocessing.image import load_img, img_to_array\n",
    "from keras.preprocessing.image import ImageDataGenerator\n",
    "from keras.layers import Dense,Input,Dropout,GlobalAveragePooling2D,Flatten,Conv2D,BatchNormalization,Activation,MaxPooling2D\n",
    "from keras.models import Model,Sequential\n",
    "from tensorflow.keras.optimizers import Adam,SGD,RMSprop\n",
    "from keras.layers.core import Flatten, Dense, Dropout\n",
    "from keras.layers.convolutional import Convolution2D, MaxPooling2D, ZeroPadding2D"
   ]
  },
  {
   "cell_type": "code",
   "execution_count": 2,
   "metadata": {
    "execution": {
     "iopub.execute_input": "2022-03-24T11:05:41.902318Z",
     "iopub.status.busy": "2022-03-24T11:05:41.901568Z",
     "iopub.status.idle": "2022-03-24T11:05:41.909567Z",
     "shell.execute_reply": "2022-03-24T11:05:41.908492Z",
     "shell.execute_reply.started": "2022-03-24T11:05:41.902277Z"
    }
   },
   "outputs": [],
   "source": [
    "# importing data\n",
    "train_dir = \"/kaggle/input/fer2013/train/\"\n",
    "test_dir = \"/kaggle/input/fer2013/test/\""
   ]
  },
  {
   "cell_type": "markdown",
   "metadata": {},
   "source": [
    "# **Data Exploration**"
   ]
  },
  {
   "cell_type": "code",
   "execution_count": 3,
   "metadata": {
    "execution": {
     "iopub.execute_input": "2022-03-24T11:05:42.997045Z",
     "iopub.status.busy": "2022-03-24T11:05:42.996481Z",
     "iopub.status.idle": "2022-03-24T11:05:43.003061Z",
     "shell.execute_reply": "2022-03-24T11:05:43.002362Z",
     "shell.execute_reply.started": "2022-03-24T11:05:42.997001Z"
    }
   },
   "outputs": [],
   "source": [
    "# function to plot top 5 images\n",
    "def plot_images(img_dir, top=5):\n",
    "    all_img_dirs = os.listdir(img_dir)\n",
    "    img_files = [os.path.join(img_dir, file) for file in all_img_dirs][:5]\n",
    "  \n",
    "    plt.figure(figsize=(10, 10))\n",
    "  \n",
    "    for idx, img_path in enumerate(img_files):\n",
    "        plt.subplot(5, 5, idx+1)\n",
    "    \n",
    "        img = plt.imread(img_path)\n",
    "        plt.tight_layout()         \n",
    "        plt.imshow(img, cmap='Blues_r')"
   ]
  },
  {
   "cell_type": "code",
   "execution_count": 4,
   "metadata": {
    "execution": {
     "iopub.execute_input": "2022-03-24T11:05:44.183237Z",
     "iopub.status.busy": "2022-03-24T11:05:44.181123Z",
     "iopub.status.idle": "2022-03-24T11:05:45.201919Z",
     "shell.execute_reply": "2022-03-24T11:05:45.201215Z",
     "shell.execute_reply.started": "2022-03-24T11:05:44.183197Z"
    }
   },
   "outputs": [],
   "source": [
    "plot_images(train_dir+\"happy\")"
   ]
  },
  {
   "cell_type": "code",
   "execution_count": 5,
   "metadata": {
    "execution": {
     "iopub.execute_input": "2022-03-24T11:05:46.708424Z",
     "iopub.status.busy": "2022-03-24T11:05:46.708154Z",
     "iopub.status.idle": "2022-03-24T11:05:46.730871Z",
     "shell.execute_reply": "2022-03-24T11:05:46.730147Z",
     "shell.execute_reply.started": "2022-03-24T11:05:46.708392Z"
    }
   },
   "outputs": [],
   "source": [
    "# assinging a image from train\n",
    "img_array = cv2.imread(train_dir+\"angry/Training_3908.jpg\")"
   ]
  },
  {
   "cell_type": "code",
   "execution_count": 6,
   "metadata": {
    "execution": {
     "iopub.execute_input": "2022-03-24T11:05:47.506813Z",
     "iopub.status.busy": "2022-03-24T11:05:47.506502Z",
     "iopub.status.idle": "2022-03-24T11:05:47.722336Z",
     "shell.execute_reply": "2022-03-24T11:05:47.721686Z",
     "shell.execute_reply.started": "2022-03-24T11:05:47.506774Z"
    }
   },
   "outputs": [],
   "source": [
    "plt.imshow(img_array)"
   ]
  },
  {
   "cell_type": "code",
   "execution_count": 7,
   "metadata": {
    "execution": {
     "iopub.execute_input": "2022-03-24T11:05:48.009893Z",
     "iopub.status.busy": "2022-03-24T11:05:48.006513Z",
     "iopub.status.idle": "2022-03-24T11:05:48.016594Z",
     "shell.execute_reply": "2022-03-24T11:05:48.015670Z",
     "shell.execute_reply.started": "2022-03-24T11:05:48.009840Z"
    }
   },
   "outputs": [],
   "source": [
    "# checking image shape\n",
    "img_array.shape"
   ]
  },
  {
   "cell_type": "markdown",
   "metadata": {},
   "source": [
    "# **Data Preprocessing**"
   ]
  },
  {
   "cell_type": "code",
   "execution_count": 8,
   "metadata": {
    "execution": {
     "iopub.execute_input": "2022-03-24T11:08:38.576290Z",
     "iopub.status.busy": "2022-03-24T11:08:38.575590Z",
     "iopub.status.idle": "2022-03-24T11:08:55.447681Z",
     "shell.execute_reply": "2022-03-24T11:08:55.446973Z",
     "shell.execute_reply.started": "2022-03-24T11:08:38.576252Z"
    }
   },
   "outputs": [],
   "source": [
    "# Train data generator\n",
    "datagen = ImageDataGenerator(rescale=1./255)\n",
    "\n",
    "train_set = datagen.flow_from_directory(train_dir,\n",
    "                                              target_size = (48,48),\n",
    "                                              color_mode = \"grayscale\",\n",
    "                                              batch_size=32,\n",
    "                                              class_mode='categorical',\n",
    "                                              shuffle=True)\n",
    "train_set.class_indices"
   ]
  },
  {
   "cell_type": "code",
   "execution_count": 9,
   "metadata": {
    "execution": {
     "iopub.execute_input": "2022-03-24T11:08:57.043588Z",
     "iopub.status.busy": "2022-03-24T11:08:57.043338Z",
     "iopub.status.idle": "2022-03-24T11:09:01.256657Z",
     "shell.execute_reply": "2022-03-24T11:09:01.255952Z",
     "shell.execute_reply.started": "2022-03-24T11:08:57.043558Z"
    }
   },
   "outputs": [],
   "source": [
    "# Validation data generator\n",
    "val_datagen = ImageDataGenerator(rescale=1./255)\n",
    "\n",
    "validation_set = val_datagen.flow_from_directory(test_dir,\n",
    "                                              target_size = (48,48),\n",
    "                                              color_mode = \"grayscale\",\n",
    "                                              batch_size=32,\n",
    "                                              class_mode='categorical',\n",
    "                                              shuffle=False)\n",
    "\n",
    "validation_set.class_indices"
   ]
  },
  {
   "cell_type": "markdown",
   "metadata": {},
   "source": [
    "# **Building CNN model**"
   ]
  },
  {
   "cell_type": "code",
   "execution_count": 10,
   "metadata": {
    "execution": {
     "iopub.execute_input": "2022-03-24T11:13:28.349428Z",
     "iopub.status.busy": "2022-03-24T11:13:28.348948Z",
     "iopub.status.idle": "2022-03-24T11:13:30.847949Z",
     "shell.execute_reply": "2022-03-24T11:13:30.847240Z",
     "shell.execute_reply.started": "2022-03-24T11:13:28.349389Z"
    }
   },
   "outputs": [],
   "source": [
    "# create model structure\n",
    "model = Sequential()\n",
    "\n",
    "#1st CNN layer\n",
    "model.add(Conv2D(64,(3,3),padding = 'same',input_shape = (48,48,1)))\n",
    "model.add(BatchNormalization())\n",
    "model.add(Activation('relu'))\n",
    "model.add(MaxPooling2D(pool_size = (2,2)))\n",
    "model.add(Dropout(0.25))\n",
    "\n",
    "#2nd CNN layer\n",
    "model.add(Conv2D(128,(5,5),padding = 'same'))\n",
    "model.add(BatchNormalization())\n",
    "model.add(Activation('relu'))\n",
    "model.add(MaxPooling2D(pool_size = (2,2)))\n",
    "model.add(Dropout (0.25))\n",
    "\n",
    "#3rd CNN layer\n",
    "model.add(Conv2D(512,(3,3),padding = 'same'))\n",
    "model.add(BatchNormalization())\n",
    "model.add(Activation('relu'))\n",
    "model.add(MaxPooling2D(pool_size = (2,2)))\n",
    "model.add(Dropout (0.25))\n",
    "\n",
    "#4th CNN layer\n",
    "model.add(Conv2D(512,(3,3), padding='same'))\n",
    "model.add(BatchNormalization())\n",
    "model.add(Activation('relu'))\n",
    "model.add(MaxPooling2D(pool_size=(2, 2)))\n",
    "model.add(Dropout(0.25))\n",
    "\n",
    "model.add(Flatten())\n",
    "\n",
    "#Fully connected 1st layer\n",
    "model.add(Dense(256))\n",
    "model.add(BatchNormalization())\n",
    "model.add(Activation('relu'))\n",
    "model.add(Dropout(0.25))\n",
    "\n",
    "\n",
    "# Fully connected layer 2nd layer\n",
    "model.add(Dense(512))\n",
    "model.add(BatchNormalization())\n",
    "model.add(Activation('relu'))\n",
    "model.add(Dropout(0.25))\n",
    "\n",
    "model.add(Dense(7, activation='softmax'))\n",
    "\n",
    "\n",
    "\n",
    "opt = Adam(lr = 0.001)\n",
    "model.compile(optimizer=opt,loss='categorical_crossentropy', metrics=['accuracy'])\n",
    "model.summary()"
   ]
  },
  {
   "cell_type": "code",
   "execution_count": 12,
   "metadata": {
    "execution": {
     "iopub.execute_input": "2022-03-24T11:15:01.530116Z",
     "iopub.status.busy": "2022-03-24T11:15:01.529625Z",
     "iopub.status.idle": "2022-03-24T11:15:01.536379Z",
     "shell.execute_reply": "2022-03-24T11:15:01.535723Z",
     "shell.execute_reply.started": "2022-03-24T11:15:01.530075Z"
    }
   },
   "outputs": [],
   "source": [
    "from keras.callbacks import ModelCheckpoint, EarlyStopping, ReduceLROnPlateau\n",
    "\n",
    "checkpoint = ModelCheckpoint(\"./model_weights.h5\", monitor='val_acc', verbose=1, save_best_only=True, mode='max')\n",
    "\n",
    "early_stopping = EarlyStopping(monitor='val_loss',\n",
    "                          min_delta=0,\n",
    "                          patience=3,\n",
    "                          verbose=1,\n",
    "                          restore_best_weights=True)\n",
    "\n",
    "reduce_learningrate = ReduceLROnPlateau(monitor='val_loss',\n",
    "                              factor=0.2,\n",
    "                              patience=3,\n",
    "                              verbose=1,\n",
    "                              min_lr=0.0001)\n",
    "\n",
    "callbacks_list = [early_stopping,checkpoint,reduce_learningrate]"
   ]
  },
  {
   "cell_type": "code",
   "execution_count": 13,
   "metadata": {
    "execution": {
     "iopub.execute_input": "2022-03-24T11:16:11.746408Z",
     "iopub.status.busy": "2022-03-24T11:16:11.745702Z",
     "iopub.status.idle": "2022-03-24T11:16:11.750621Z",
     "shell.execute_reply": "2022-03-24T11:16:11.749425Z",
     "shell.execute_reply.started": "2022-03-24T11:16:11.746367Z"
    }
   },
   "outputs": [],
   "source": [
    "epochs = 30\n",
    "steps_per_epoch= train_set.n//train_set.batch_size\n",
    "validation_steps = validation_set.n//validation_set.batch_size"
   ]
  },
  {
   "cell_type": "code",
   "execution_count": 14,
   "metadata": {
    "execution": {
     "iopub.execute_input": "2022-03-24T11:17:10.348095Z",
     "iopub.status.busy": "2022-03-24T11:17:10.347563Z",
     "iopub.status.idle": "2022-03-24T11:26:53.554164Z",
     "shell.execute_reply": "2022-03-24T11:26:53.553385Z",
     "shell.execute_reply.started": "2022-03-24T11:17:10.348057Z"
    }
   },
   "outputs": [],
   "source": [
    "# Train the neural network/model\n",
    "history = model.fit_generator(generator=train_set,\n",
    "                                steps_per_epoch=steps_per_epoch,\n",
    "                                epochs=epochs,\n",
    "                                validation_data = validation_set,\n",
    "                                validation_steps = validation_steps,\n",
    "                                callbacks=callbacks_list\n",
    "                                )"
   ]
  },
  {
   "cell_type": "code",
   "execution_count": 15,
   "metadata": {
    "execution": {
     "iopub.execute_input": "2022-03-24T11:28:53.416480Z",
     "iopub.status.busy": "2022-03-24T11:28:53.416208Z",
     "iopub.status.idle": "2022-03-24T11:29:45.823289Z",
     "shell.execute_reply": "2022-03-24T11:29:45.822522Z",
     "shell.execute_reply.started": "2022-03-24T11:28:53.416450Z"
    }
   },
   "outputs": [],
   "source": [
    "# saving model\n",
    "model.save(\"./final_model.h5\")\n",
    "model.save_weights(\"./final_model_weights.h5\")"
   ]
  },
  {
   "cell_type": "code",
   "execution_count": null,
   "metadata": {
    "execution": {
     "iopub.execute_input": "2022-03-24T11:30:18.583230Z",
     "iopub.status.busy": "2022-03-24T11:30:18.582675Z",
     "iopub.status.idle": "2022-03-24T11:30:18.595221Z",
     "shell.execute_reply": "2022-03-24T11:30:18.594480Z",
     "shell.execute_reply.started": "2022-03-24T11:30:18.583191Z"
    }
   },
   "outputs": [],
   "source": [
    "# serialize model to JSON\n",
    "model_json = model.to_json()\n",
    "with open(\"model.json\", \"w\") as json_file:\n",
    "    json_file.write(model_json)"
   ]
  },
  {
   "cell_type": "code",
   "execution_count": null,
   "metadata": {
    "execution": {
     "iopub.execute_input": "2022-03-24T11:30:16.184380Z",
     "iopub.status.busy": "2022-03-24T11:30:16.183840Z",
     "iopub.status.idle": "2022-03-24T11:30:16.516862Z",
     "shell.execute_reply": "2022-03-24T11:30:16.516111Z",
     "shell.execute_reply.started": "2022-03-24T11:30:16.184342Z"
    }
   },
   "outputs": [],
   "source": [
    "# Loading the best fit model \n",
    "from keras.models import load_model\n",
    "model = load_model(\"./final_model.h5\")"
   ]
  },
  {
   "cell_type": "markdown",
   "metadata": {},
   "source": [
    "# **Model Evaluation**"
   ]
  },
  {
   "cell_type": "code",
   "execution_count": 16,
   "metadata": {
    "execution": {
     "iopub.execute_input": "2022-03-24T11:29:45.825830Z",
     "iopub.status.busy": "2022-03-24T11:29:45.825041Z",
     "iopub.status.idle": "2022-03-24T11:29:45.832742Z",
     "shell.execute_reply": "2022-03-24T11:29:45.831936Z",
     "shell.execute_reply.started": "2022-03-24T11:29:45.825788Z"
    }
   },
   "outputs": [],
   "source": [
    "h =  history.history\n",
    "h.keys()"
   ]
  },
  {
   "cell_type": "code",
   "execution_count": 17,
   "metadata": {
    "execution": {
     "iopub.execute_input": "2022-03-24T11:29:45.834292Z",
     "iopub.status.busy": "2022-03-24T11:29:45.834053Z",
     "iopub.status.idle": "2022-03-24T11:29:46.035802Z",
     "shell.execute_reply": "2022-03-24T11:29:46.035076Z",
     "shell.execute_reply.started": "2022-03-24T11:29:45.834260Z"
    }
   },
   "outputs": [],
   "source": [
    "# ploting accuracy\n",
    "plt.plot(h['accuracy'], label='Training Accuracy')\n",
    "plt.plot(h['val_accuracy'] , c = \"red\", label='Validation Accuracy')\n",
    "plt.title(\"Training Accuracy vs Validation Accuracy\")\n",
    "plt.legend(loc='lower right')\n",
    "plt.savefig(\"./final_cnn_accuracy.png\")\n",
    "plt.show()"
   ]
  },
  {
   "cell_type": "code",
   "execution_count": 18,
   "metadata": {
    "execution": {
     "iopub.execute_input": "2022-03-24T11:30:01.524044Z",
     "iopub.status.busy": "2022-03-24T11:30:01.523651Z",
     "iopub.status.idle": "2022-03-24T11:30:01.821957Z",
     "shell.execute_reply": "2022-03-24T11:30:01.821278Z",
     "shell.execute_reply.started": "2022-03-24T11:30:01.523999Z"
    }
   },
   "outputs": [],
   "source": [
    "# ploting loss\n",
    "plt.plot(h['loss'], label='Training Loss')\n",
    "plt.plot(h['val_loss'] , c = \"red\", label='Validation Loss')\n",
    "plt.title(\"Training loss vs Validation Loss\")\n",
    "plt.legend(loc='upper right')\n",
    "plt.savefig(\"./final_cnn_loss.png\")\n",
    "plt.show()"
   ]
  },
  {
   "cell_type": "code",
   "execution_count": null,
   "metadata": {},
   "outputs": [],
   "source": [
    "from sklearn.metrics import confusion_matrix\n",
    "import itertools"
   ]
  },
  {
   "cell_type": "code",
   "execution_count": null,
   "metadata": {},
   "outputs": [],
   "source": [
    "def plot_confusion_matrix(cm, classes, title='Confusion matrix', cmap=plt.cm.Blues):\n",
    "    cm = cm.astype('float') / cm.sum(axis=1)[:, np.newaxis]\n",
    "    plt.figure(figsize=(10,10))\n",
    "    plt.imshow(cm, interpolation='nearest', cmap=cmap)\n",
    "    plt.title(title)\n",
    "    plt.colorbar()\n",
    "    tick_marks = np.arange(len(classes))\n",
    "    plt.xticks(tick_marks, classes, rotation=45)\n",
    "    plt.yticks(tick_marks, classes)\n",
    "\n",
    "    fmt = '.2f'\n",
    "    thresh = cm.max() / 2.\n",
    "    for i, j in itertools.product(range(cm.shape[0]), range(cm.shape[1])):\n",
    "        plt.text(j, i, format(cm[i, j], fmt),\n",
    "                 horizontalalignment=\"center\",\n",
    "                 color=\"white\" if cm[i, j] > thresh else \"black\")\n",
    "\n",
    "    plt.ylabel('True label')# **Live Class Monitoring System(Face Emotion Recognition)**\n",
    "    plt.xlabel('Predicted label')\n",
    "    plt.tight_layout()"
   ]
  },
  {
   "cell_type": "code",
   "execution_count": null,
   "metadata": {},
   "outputs": [],
   "source": [
    "# Predicting For Test Set\n",
    "predictions = model.predict(validation_set)\n",
    "\n",
    "# Printing Confution Matrix\n",
    "cm = confusion_matrix(y_pred=np.argmax(predictions, axis=-1), y_true=validation_set.classes)                         \n",
    "cm"
   ]
  },
  {
   "cell_type": "code",
   "execution_count": null,
   "metadata": {},
   "outputs": [],
   "source": [
    "# compute predictions\n",
    "predictions = model.predict_generator(generator=validation_set)\n",
    "y_pred = [np.argmax(probas) for probas in predictions]\n",
    "y_test = validation_set.classes\n",
    "class_names = validation_set.class_indices.keys()\n",
    "\n",
    "# compute confusion matrix\n",
    "con_matrix = confusion_matrix(y_test, y_pred)\n",
    "np.set_printoptions(precision=2)\n",
    "\n",
    "# plot confusion matrix\n",
    "plt.figure()\n",
    "plot_confusion_matrix(con_matrix, classes=class_names, title='Confusion matrix')\n",
    "plt.savefig(\"./final_cnn_cm.png\")\n",
    "plt.show()"
   ]
  },
  {
   "cell_type": "code",
   "execution_count": null,
   "metadata": {},
   "outputs": [],
   "source": []
  }
 ],
 "metadata": {
  "kernelspec": {
   "display_name": "Python 3",
   "language": "python",
   "name": "python3"
  },
  "language_info": {
   "codemirror_mode": {
    "name": "ipython",
    "version": 3
   },
   "file_extension": ".py",
   "mimetype": "text/x-python",
   "name": "python",
   "nbconvert_exporter": "python",
   "pygments_lexer": "ipython3",
   "version": "3.8.5"
  }
 },
 "nbformat": 4,
 "nbformat_minor": 4
}
