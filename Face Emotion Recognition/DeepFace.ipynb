{
 "cells": [
  {
   "cell_type": "code",
   "execution_count": null,
   "metadata": {},
   "outputs": [],
   "source": [
    "pip install deepface"
   ]
  },
  {
   "cell_type": "code",
   "execution_count": null,
   "metadata": {},
   "outputs": [],
   "source": [
    "# importing deepface\n",
    "from deepface import DeepFace"
   ]
  },
  {
   "cell_type": "code",
   "execution_count": null,
   "metadata": {},
   "outputs": [],
   "source": [
    "# loading images\n",
    "img1_path = './data/2c446a93f539b8b2e3d2e98ae213fae6.jpg'\n",
    "img2_path = './data/c6faf98c4385d683b8ce143273bd933e.png'"
   ]
  },
  {
   "cell_type": "code",
   "execution_count": null,
   "metadata": {},
   "outputs": [],
   "source": [
    "# ploting img1\n",
    "img_1 = cv2.imread(img1_path)\n",
    "plt.imshow(img_1[:, :,::-1])"
   ]
  },
  {
   "cell_type": "code",
   "execution_count": null,
   "metadata": {},
   "outputs": [],
   "source": [
    "# analyzing of image 1\n",
    "demography = DeepFace.analyze(img1_path)\n",
    "demography"
   ]
  },
  {
   "cell_type": "code",
   "execution_count": null,
   "metadata": {},
   "outputs": [],
   "source": [
    "demography['emotion']"
   ]
  },
  {
   "cell_type": "code",
   "execution_count": null,
   "metadata": {},
   "outputs": [],
   "source": [
    "# detecting emotion of image 1\n",
    "plt.imshow(img_1[:, :,::-1]);\n",
    "emotion1 = demography['dominant_emotion']\n",
    "print(f\"The person in below image is {emotion1}\")"
   ]
  },
  {
   "cell_type": "code",
   "execution_count": null,
   "metadata": {},
   "outputs": [],
   "source": [
    "# ploting img2\n",
    "img_2 = cv2.imread(img2_path)\n",
    "plt.imshow(img_2[:, :,::-1])"
   ]
  },
  {
   "cell_type": "code",
   "execution_count": null,
   "metadata": {},
   "outputs": [],
   "source": [
    "# checking emotion of image 2\n",
    "demography2 = DeepFace.analyze(img2_path)\n",
    "demography2"
   ]
  },
  {
   "cell_type": "code",
   "execution_count": null,
   "metadata": {},
   "outputs": [],
   "source": [
    "# detecting emotion of image 2\n",
    "emotion2 = demography2['dominant_emotion']\n",
    "\n",
    "plt.imshow(img_2[:, :,::-1]);\n",
    "print(f\"The person in below image is {emotion2}\")"
   ]
  },
  {
   "cell_type": "markdown",
   "metadata": {},
   "source": [
    "> **In first image the deepface model is detecting the correct emotion of the person in the image whereas in the second case the person is angry but the model is predicting it as sad.**"
   ]
  }
 ],
 "metadata": {
  "language_info": {
   "name": "python"
  },
  "orig_nbformat": 4
 },
 "nbformat": 4,
 "nbformat_minor": 2
}
